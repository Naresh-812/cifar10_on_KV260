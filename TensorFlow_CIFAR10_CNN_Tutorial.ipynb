{
  "cells": [
    {
      "cell_type": "markdown",
      "metadata": {
        "id": "view-in-github",
        "colab_type": "text"
      },
      "source": [
        "<a href=\"https://colab.research.google.com/github/Naresh-812/cifar10_on_KV260/blob/main/TensorFlow_CIFAR10_CNN_Tutorial.ipynb\" target=\"_parent\"><img src=\"https://colab.research.google.com/assets/colab-badge.svg\" alt=\"Open In Colab\"/></a>"
      ]
    },
    {
      "metadata": {
        "id": "ziQ6YeTI7-8z"
      },
      "cell_type": "markdown",
      "source": [
        "Adapted from [GitHub Keras Example](https://github.com/keras-team/keras/blob/master/examples/cifar10_cnn.py)\n",
        "\n",
        "\n",
        "TensorFlow 1.x --> TensorFlow 2.x"
      ]
    },
    {
      "metadata": {
        "id": "ZpIMXCQoggZp"
      },
      "cell_type": "markdown",
      "source": [
        "# 1. Introduction\n",
        "\n",
        "This tutorial is an introduction to Convolutional Neural Networks using TensorFlow 2.x Keras API. The dataset that we will work it is the Cifar10 dataset, a dataset of images from 10 different classes, and we will use a Sequential CNN to identify the class of an image.\n",
        "\n",
        "This model reaches ~80% accuracy.\n",
        "\n",
        "To prepare our notebook, run the next cell to import the necessary packages. Change the accelerator from ```None``` to ```GPU``` on the right."
      ]
    },
    {
      "metadata": {
        "trusted": true,
        "colab": {
          "base_uri": "https://localhost:8080/"
        },
        "id": "pB4pDmWohdxb",
        "outputId": "69a695f2-ad15-471c-8281-42b577abe7dd"
      },
      "cell_type": "code",
      "source": [
        "from google.colab import drive\n",
        "drive.mount('/content/drive')"
      ],
      "execution_count": 1,
      "outputs": [
        {
          "output_type": "stream",
          "name": "stdout",
          "text": [
            "Mounted at /content/drive\n"
          ]
        }
      ]
    },
    {
      "metadata": {
        "id": "PiGHlePr8Ea5",
        "outputId": "09646200-fce8-4c67-8d92-2147f954d110",
        "trusted": true,
        "colab": {
          "base_uri": "https://localhost:8080/"
        }
      },
      "cell_type": "code",
      "source": [
        "import tensorflow as tf\n",
        "import seaborn as sns\n",
        "import numpy as np\n",
        "import pandas as pd\n",
        "import matplotlib.pyplot as plt\n",
        "import matplotlib.image as mpimg\n",
        "import itertools\n",
        "\n",
        "print(tf.__version__)"
      ],
      "execution_count": 2,
      "outputs": [
        {
          "output_type": "stream",
          "name": "stdout",
          "text": [
            "2.19.0\n"
          ]
        }
      ]
    },
    {
      "metadata": {
        "id": "_M7mkTRmgoJt"
      },
      "cell_type": "markdown",
      "source": [
        "# 2. Data Preprocessing\n",
        "\n",
        "Before building any ML model, it is important to preprocess the data. In fact, data preprocessing will generally take up the most time in any ML pipeline. The following module goes over the steps to preprocess the CIFAR10 dataset for our purposes."
      ]
    },
    {
      "metadata": {
        "id": "mlKQeGRKjg9X"
      },
      "cell_type": "markdown",
      "source": [
        "## 2.1 Load Data\n",
        "\n",
        "Our first step is to load the data and divide it into a training and testing dataset. The CIFAR10 dataset can be downloaded directly from TensorFlow and has already been divided. Run the next cell to import the data.\n",
        "\n",
        "``` x_train ``` is the dataset of 32x32 color images of objects that the model will be trained on.\n",
        "\n",
        "```y_train``` is the dataset of labels that correspond to ```x_train```.\n",
        "\n",
        "``` x_test ``` is the dataset of 32x32 color images of objects that the model will be tested on.\n",
        "\n",
        "```y_test``` is the dataset of labels that correspond to ```x_test```."
      ]
    },
    {
      "metadata": {
        "id": "J1hE58VFhdxe"
      },
      "cell_type": "markdown",
      "source": [
        "Classes:\n",
        "    0. airplane\n",
        "    1. automobile\n",
        "    2. bird\n",
        "    3. cat\n",
        "    4. deer\n",
        "    5. dog\n",
        "    6. frog\n",
        "    7. horse\n",
        "    8. ship\n",
        "    9. truck"
      ]
    },
    {
      "metadata": {
        "id": "sGx1exIR8pBm",
        "outputId": "3dcf7c27-13e0-4753-debd-4405c30d8570",
        "trusted": true,
        "colab": {
          "base_uri": "https://localhost:8080/"
        }
      },
      "cell_type": "code",
      "source": [
        "cifar10 = tf.keras.datasets.cifar10\n",
        "(x_train, y_train), (x_test, y_test) = cifar10.load_data()"
      ],
      "execution_count": 3,
      "outputs": [
        {
          "output_type": "stream",
          "name": "stdout",
          "text": [
            "Downloading data from https://www.cs.toronto.edu/~kriz/cifar-10-python.tar.gz\n",
            "\u001b[1m170498071/170498071\u001b[0m \u001b[32m━━━━━━━━━━━━━━━━━━━━\u001b[0m\u001b[37m\u001b[0m \u001b[1m6s\u001b[0m 0us/step\n"
          ]
        }
      ]
    },
    {
      "metadata": {
        "id": "Nf0LNnxEXHtC",
        "trusted": true
      },
      "cell_type": "code",
      "source": [
        "y_train = y_train.flatten()\n",
        "y_test = y_test.flatten()"
      ],
      "execution_count": 4,
      "outputs": []
    },
    {
      "metadata": {
        "id": "v5dDKgCD2saz"
      },
      "cell_type": "markdown",
      "source": [
        "Run the following code to see how many images are in each class. We see that each class has 5000 images. Having an even distribution of images is helpful for our model as it will have enough images to learn about the features for each class."
      ]
    },
    {
      "metadata": {
        "id": "94XVUmBojmkc",
        "outputId": "18b6b0f5-dead-4df5-ae7b-f1aa3fcc5ef6",
        "trusted": true,
        "collapsed": true,
        "colab": {
          "base_uri": "https://localhost:8080/",
          "height": 1000
        }
      },
      "cell_type": "code",
      "source": [
        "classes = ['airplane', 'automobile', 'bird', 'cat', 'deer', 'dog', 'frog', 'horse', 'ship', 'truck']\n",
        "\n",
        "plt.figure(figsize=(10,7))\n",
        "p = sns.countplot(y_train.flatten())\n",
        "p.set(xticklabels=classes)"
      ],
      "execution_count": 5,
      "outputs": [
        {
          "output_type": "stream",
          "name": "stderr",
          "text": [
            "/tmp/ipython-input-3180853471.py:5: UserWarning: set_ticklabels() should only be used with a fixed number of ticks, i.e. after set_ticks() or using a FixedLocator.\n",
            "  p.set(xticklabels=classes)\n"
          ]
        },
        {
          "output_type": "execute_result",
          "data": {
            "text/plain": [
              "[[Text(0, 0, 'airplane'),\n",
              "  Text(1, 0, 'automobile'),\n",
              "  Text(2, 0, 'bird'),\n",
              "  Text(3, 0, 'cat'),\n",
              "  Text(4, 0, 'deer'),\n",
              "  Text(5, 0, 'dog'),\n",
              "  Text(6, 0, 'frog'),\n",
              "  Text(7, 0, 'horse'),\n",
              "  Text(8, 0, 'ship'),\n",
              "  Text(9, 0, 'truck'),\n",
              "  Text(10, 0, ''),\n",
              "  Text(11, 0, ''),\n",
              "  Text(12, 0, ''),\n",
              "  Text(13, 0, ''),\n",
              "  Text(14, 0, ''),\n",
              "  Text(15, 0, ''),\n",
              "  Text(16, 0, ''),\n",
              "  Text(17, 0, ''),\n",
              "  Text(18, 0, ''),\n",
              "  Text(19, 0, ''),\n",
              "  Text(20, 0, ''),\n",
              "  Text(21, 0, ''),\n",
              "  Text(22, 0, ''),\n",
              "  Text(23, 0, ''),\n",
              "  Text(24, 0, ''),\n",
              "  Text(25, 0, ''),\n",
              "  Text(26, 0, ''),\n",
              "  Text(27, 0, ''),\n",
              "  Text(28, 0, ''),\n",
              "  Text(29, 0, ''),\n",
              "  Text(30, 0, ''),\n",
              "  Text(31, 0, ''),\n",
              "  Text(32, 0, ''),\n",
              "  Text(33, 0, ''),\n",
              "  Text(34, 0, ''),\n",
              "  Text(35, 0, ''),\n",
              "  Text(36, 0, ''),\n",
              "  Text(37, 0, ''),\n",
              "  Text(38, 0, ''),\n",
              "  Text(39, 0, ''),\n",
              "  Text(40, 0, ''),\n",
              "  Text(41, 0, ''),\n",
              "  Text(42, 0, ''),\n",
              "  Text(43, 0, ''),\n",
              "  Text(44, 0, ''),\n",
              "  Text(45, 0, ''),\n",
              "  Text(46, 0, ''),\n",
              "  Text(47, 0, ''),\n",
              "  Text(48, 0, ''),\n",
              "  Text(49, 0, ''),\n",
              "  Text(50, 0, ''),\n",
              "  Text(51, 0, ''),\n",
              "  Text(52, 0, ''),\n",
              "  Text(53, 0, ''),\n",
              "  Text(54, 0, ''),\n",
              "  Text(55, 0, ''),\n",
              "  Text(56, 0, ''),\n",
              "  Text(57, 0, ''),\n",
              "  Text(58, 0, ''),\n",
              "  Text(59, 0, ''),\n",
              "  Text(60, 0, ''),\n",
              "  Text(61, 0, ''),\n",
              "  Text(62, 0, ''),\n",
              "  Text(63, 0, ''),\n",
              "  Text(64, 0, ''),\n",
              "  Text(65, 0, ''),\n",
              "  Text(66, 0, ''),\n",
              "  Text(67, 0, ''),\n",
              "  Text(68, 0, ''),\n",
              "  Text(69, 0, ''),\n",
              "  Text(70, 0, ''),\n",
              "  Text(71, 0, ''),\n",
              "  Text(72, 0, ''),\n",
              "  Text(73, 0, ''),\n",
              "  Text(74, 0, ''),\n",
              "  Text(75, 0, ''),\n",
              "  Text(76, 0, ''),\n",
              "  Text(77, 0, ''),\n",
              "  Text(78, 0, ''),\n",
              "  Text(79, 0, ''),\n",
              "  Text(80, 0, ''),\n",
              "  Text(81, 0, ''),\n",
              "  Text(82, 0, ''),\n",
              "  Text(83, 0, ''),\n",
              "  Text(84, 0, ''),\n",
              "  Text(85, 0, ''),\n",
              "  Text(86, 0, ''),\n",
              "  Text(87, 0, ''),\n",
              "  Text(88, 0, ''),\n",
              "  Text(89, 0, ''),\n",
              "  Text(90, 0, ''),\n",
              "  Text(91, 0, ''),\n",
              "  Text(92, 0, ''),\n",
              "  Text(93, 0, ''),\n",
              "  Text(94, 0, ''),\n",
              "  Text(95, 0, ''),\n",
              "  Text(96, 0, ''),\n",
              "  Text(97, 0, ''),\n",
              "  Text(98, 0, ''),\n",
              "  Text(99, 0, ''),\n",
              "  Text(100, 0, ''),\n",
              "  Text(101, 0, ''),\n",
              "  Text(102, 0, ''),\n",
              "  Text(103, 0, ''),\n",
              "  Text(104, 0, ''),\n",
              "  Text(105, 0, ''),\n",
              "  Text(106, 0, ''),\n",
              "  Text(107, 0, ''),\n",
              "  Text(108, 0, ''),\n",
              "  Text(109, 0, ''),\n",
              "  Text(110, 0, ''),\n",
              "  Text(111, 0, ''),\n",
              "  Text(112, 0, ''),\n",
              "  Text(113, 0, ''),\n",
              "  Text(114, 0, ''),\n",
              "  Text(115, 0, ''),\n",
              "  Text(116, 0, ''),\n",
              "  Text(117, 0, ''),\n",
              "  Text(118, 0, ''),\n",
              "  Text(119, 0, ''),\n",
              "  Text(120, 0, ''),\n",
              "  Text(121, 0, ''),\n",
              "  Text(122, 0, ''),\n",
              "  Text(123, 0, ''),\n",
              "  Text(124, 0, ''),\n",
              "  Text(125, 0, ''),\n",
              "  Text(126, 0, ''),\n",
              "  Text(127, 0, ''),\n",
              "  Text(128, 0, ''),\n",
              "  Text(129, 0, ''),\n",
              "  Text(130, 0, ''),\n",
              "  Text(131, 0, ''),\n",
              "  Text(132, 0, ''),\n",
              "  Text(133, 0, ''),\n",
              "  Text(134, 0, ''),\n",
              "  Text(135, 0, ''),\n",
              "  Text(136, 0, ''),\n",
              "  Text(137, 0, ''),\n",
              "  Text(138, 0, ''),\n",
              "  Text(139, 0, ''),\n",
              "  Text(140, 0, ''),\n",
              "  Text(141, 0, ''),\n",
              "  Text(142, 0, ''),\n",
              "  Text(143, 0, ''),\n",
              "  Text(144, 0, ''),\n",
              "  Text(145, 0, ''),\n",
              "  Text(146, 0, ''),\n",
              "  Text(147, 0, ''),\n",
              "  Text(148, 0, ''),\n",
              "  Text(149, 0, ''),\n",
              "  Text(150, 0, ''),\n",
              "  Text(151, 0, ''),\n",
              "  Text(152, 0, ''),\n",
              "  Text(153, 0, ''),\n",
              "  Text(154, 0, ''),\n",
              "  Text(155, 0, ''),\n",
              "  Text(156, 0, ''),\n",
              "  Text(157, 0, ''),\n",
              "  Text(158, 0, ''),\n",
              "  Text(159, 0, ''),\n",
              "  Text(160, 0, ''),\n",
              "  Text(161, 0, ''),\n",
              "  Text(162, 0, ''),\n",
              "  Text(163, 0, ''),\n",
              "  Text(164, 0, ''),\n",
              "  Text(165, 0, ''),\n",
              "  Text(166, 0, ''),\n",
              "  Text(167, 0, ''),\n",
              "  Text(168, 0, ''),\n",
              "  Text(169, 0, ''),\n",
              "  Text(170, 0, ''),\n",
              "  Text(171, 0, ''),\n",
              "  Text(172, 0, ''),\n",
              "  Text(173, 0, ''),\n",
              "  Text(174, 0, ''),\n",
              "  Text(175, 0, ''),\n",
              "  Text(176, 0, ''),\n",
              "  Text(177, 0, ''),\n",
              "  Text(178, 0, ''),\n",
              "  Text(179, 0, ''),\n",
              "  Text(180, 0, ''),\n",
              "  Text(181, 0, ''),\n",
              "  Text(182, 0, ''),\n",
              "  Text(183, 0, ''),\n",
              "  Text(184, 0, ''),\n",
              "  Text(185, 0, ''),\n",
              "  Text(186, 0, ''),\n",
              "  Text(187, 0, ''),\n",
              "  Text(188, 0, ''),\n",
              "  Text(189, 0, ''),\n",
              "  Text(190, 0, ''),\n",
              "  Text(191, 0, ''),\n",
              "  Text(192, 0, ''),\n",
              "  Text(193, 0, ''),\n",
              "  Text(194, 0, ''),\n",
              "  Text(195, 0, ''),\n",
              "  Text(196, 0, ''),\n",
              "  Text(197, 0, ''),\n",
              "  Text(198, 0, ''),\n",
              "  Text(199, 0, ''),\n",
              "  Text(200, 0, ''),\n",
              "  Text(201, 0, ''),\n",
              "  Text(202, 0, ''),\n",
              "  Text(203, 0, ''),\n",
              "  Text(204, 0, ''),\n",
              "  Text(205, 0, ''),\n",
              "  Text(206, 0, ''),\n",
              "  Text(207, 0, ''),\n",
              "  Text(208, 0, ''),\n",
              "  Text(209, 0, ''),\n",
              "  Text(210, 0, ''),\n",
              "  Text(211, 0, ''),\n",
              "  Text(212, 0, ''),\n",
              "  Text(213, 0, ''),\n",
              "  Text(214, 0, ''),\n",
              "  Text(215, 0, ''),\n",
              "  Text(216, 0, ''),\n",
              "  Text(217, 0, ''),\n",
              "  Text(218, 0, ''),\n",
              "  Text(219, 0, ''),\n",
              "  Text(220, 0, ''),\n",
              "  Text(221, 0, ''),\n",
              "  Text(222, 0, ''),\n",
              "  Text(223, 0, ''),\n",
              "  Text(224, 0, ''),\n",
              "  Text(225, 0, ''),\n",
              "  Text(226, 0, ''),\n",
              "  Text(227, 0, ''),\n",
              "  Text(228, 0, ''),\n",
              "  Text(229, 0, ''),\n",
              "  Text(230, 0, ''),\n",
              "  Text(231, 0, ''),\n",
              "  Text(232, 0, ''),\n",
              "  Text(233, 0, ''),\n",
              "  Text(234, 0, ''),\n",
              "  Text(235, 0, ''),\n",
              "  Text(236, 0, ''),\n",
              "  Text(237, 0, ''),\n",
              "  Text(238, 0, ''),\n",
              "  Text(239, 0, ''),\n",
              "  Text(240, 0, ''),\n",
              "  Text(241, 0, ''),\n",
              "  Text(242, 0, ''),\n",
              "  Text(243, 0, ''),\n",
              "  Text(244, 0, ''),\n",
              "  Text(245, 0, ''),\n",
              "  Text(246, 0, ''),\n",
              "  Text(247, 0, ''),\n",
              "  Text(248, 0, ''),\n",
              "  Text(249, 0, ''),\n",
              "  Text(250, 0, ''),\n",
              "  Text(251, 0, ''),\n",
              "  Text(252, 0, ''),\n",
              "  Text(253, 0, ''),\n",
              "  Text(254, 0, ''),\n",
              "  Text(255, 0, ''),\n",
              "  Text(256, 0, ''),\n",
              "  Text(257, 0, ''),\n",
              "  Text(258, 0, ''),\n",
              "  Text(259, 0, ''),\n",
              "  Text(260, 0, ''),\n",
              "  Text(261, 0, ''),\n",
              "  Text(262, 0, ''),\n",
              "  Text(263, 0, ''),\n",
              "  Text(264, 0, ''),\n",
              "  Text(265, 0, ''),\n",
              "  Text(266, 0, ''),\n",
              "  Text(267, 0, ''),\n",
              "  Text(268, 0, ''),\n",
              "  Text(269, 0, ''),\n",
              "  Text(270, 0, ''),\n",
              "  Text(271, 0, ''),\n",
              "  Text(272, 0, ''),\n",
              "  Text(273, 0, ''),\n",
              "  Text(274, 0, ''),\n",
              "  Text(275, 0, ''),\n",
              "  Text(276, 0, ''),\n",
              "  Text(277, 0, ''),\n",
              "  Text(278, 0, ''),\n",
              "  Text(279, 0, ''),\n",
              "  Text(280, 0, ''),\n",
              "  Text(281, 0, ''),\n",
              "  Text(282, 0, ''),\n",
              "  Text(283, 0, ''),\n",
              "  Text(284, 0, ''),\n",
              "  Text(285, 0, ''),\n",
              "  Text(286, 0, ''),\n",
              "  Text(287, 0, ''),\n",
              "  Text(288, 0, ''),\n",
              "  Text(289, 0, ''),\n",
              "  Text(290, 0, ''),\n",
              "  Text(291, 0, ''),\n",
              "  Text(292, 0, ''),\n",
              "  Text(293, 0, ''),\n",
              "  Text(294, 0, ''),\n",
              "  Text(295, 0, ''),\n",
              "  Text(296, 0, ''),\n",
              "  Text(297, 0, ''),\n",
              "  Text(298, 0, ''),\n",
              "  Text(299, 0, ''),\n",
              "  Text(300, 0, ''),\n",
              "  Text(301, 0, ''),\n",
              "  Text(302, 0, ''),\n",
              "  Text(303, 0, ''),\n",
              "  Text(304, 0, ''),\n",
              "  Text(305, 0, ''),\n",
              "  Text(306, 0, ''),\n",
              "  Text(307, 0, ''),\n",
              "  Text(308, 0, ''),\n",
              "  Text(309, 0, ''),\n",
              "  Text(310, 0, ''),\n",
              "  Text(311, 0, ''),\n",
              "  Text(312, 0, ''),\n",
              "  Text(313, 0, ''),\n",
              "  Text(314, 0, ''),\n",
              "  Text(315, 0, ''),\n",
              "  Text(316, 0, ''),\n",
              "  Text(317, 0, ''),\n",
              "  Text(318, 0, ''),\n",
              "  Text(319, 0, ''),\n",
              "  Text(320, 0, ''),\n",
              "  Text(321, 0, ''),\n",
              "  Text(322, 0, ''),\n",
              "  Text(323, 0, ''),\n",
              "  Text(324, 0, ''),\n",
              "  Text(325, 0, ''),\n",
              "  Text(326, 0, ''),\n",
              "  Text(327, 0, ''),\n",
              "  Text(328, 0, ''),\n",
              "  Text(329, 0, ''),\n",
              "  Text(330, 0, ''),\n",
              "  Text(331, 0, ''),\n",
              "  Text(332, 0, ''),\n",
              "  Text(333, 0, ''),\n",
              "  Text(334, 0, ''),\n",
              "  Text(335, 0, ''),\n",
              "  Text(336, 0, ''),\n",
              "  Text(337, 0, ''),\n",
              "  Text(338, 0, ''),\n",
              "  Text(339, 0, ''),\n",
              "  Text(340, 0, ''),\n",
              "  Text(341, 0, ''),\n",
              "  Text(342, 0, ''),\n",
              "  Text(343, 0, ''),\n",
              "  Text(344, 0, ''),\n",
              "  Text(345, 0, ''),\n",
              "  Text(346, 0, ''),\n",
              "  Text(347, 0, ''),\n",
              "  Text(348, 0, ''),\n",
              "  Text(349, 0, ''),\n",
              "  Text(350, 0, ''),\n",
              "  Text(351, 0, ''),\n",
              "  Text(352, 0, ''),\n",
              "  Text(353, 0, ''),\n",
              "  Text(354, 0, ''),\n",
              "  Text(355, 0, ''),\n",
              "  Text(356, 0, ''),\n",
              "  Text(357, 0, ''),\n",
              "  Text(358, 0, ''),\n",
              "  Text(359, 0, ''),\n",
              "  Text(360, 0, ''),\n",
              "  Text(361, 0, ''),\n",
              "  Text(362, 0, ''),\n",
              "  Text(363, 0, ''),\n",
              "  Text(364, 0, ''),\n",
              "  Text(365, 0, ''),\n",
              "  Text(366, 0, ''),\n",
              "  Text(367, 0, ''),\n",
              "  Text(368, 0, ''),\n",
              "  Text(369, 0, ''),\n",
              "  Text(370, 0, ''),\n",
              "  Text(371, 0, ''),\n",
              "  Text(372, 0, ''),\n",
              "  Text(373, 0, ''),\n",
              "  Text(374, 0, ''),\n",
              "  Text(375, 0, ''),\n",
              "  Text(376, 0, ''),\n",
              "  Text(377, 0, ''),\n",
              "  Text(378, 0, ''),\n",
              "  Text(379, 0, ''),\n",
              "  Text(380, 0, ''),\n",
              "  Text(381, 0, ''),\n",
              "  Text(382, 0, ''),\n",
              "  Text(383, 0, ''),\n",
              "  Text(384, 0, ''),\n",
              "  Text(385, 0, ''),\n",
              "  Text(386, 0, ''),\n",
              "  Text(387, 0, ''),\n",
              "  Text(388, 0, ''),\n",
              "  Text(389, 0, ''),\n",
              "  Text(390, 0, ''),\n",
              "  Text(391, 0, ''),\n",
              "  Text(392, 0, ''),\n",
              "  Text(393, 0, ''),\n",
              "  Text(394, 0, ''),\n",
              "  Text(395, 0, ''),\n",
              "  Text(396, 0, ''),\n",
              "  Text(397, 0, ''),\n",
              "  Text(398, 0, ''),\n",
              "  Text(399, 0, ''),\n",
              "  Text(400, 0, ''),\n",
              "  Text(401, 0, ''),\n",
              "  Text(402, 0, ''),\n",
              "  Text(403, 0, ''),\n",
              "  Text(404, 0, ''),\n",
              "  Text(405, 0, ''),\n",
              "  Text(406, 0, ''),\n",
              "  Text(407, 0, ''),\n",
              "  Text(408, 0, ''),\n",
              "  Text(409, 0, ''),\n",
              "  Text(410, 0, ''),\n",
              "  Text(411, 0, ''),\n",
              "  Text(412, 0, ''),\n",
              "  Text(413, 0, ''),\n",
              "  Text(414, 0, ''),\n",
              "  Text(415, 0, ''),\n",
              "  Text(416, 0, ''),\n",
              "  Text(417, 0, ''),\n",
              "  Text(418, 0, ''),\n",
              "  Text(419, 0, ''),\n",
              "  Text(420, 0, ''),\n",
              "  Text(421, 0, ''),\n",
              "  Text(422, 0, ''),\n",
              "  Text(423, 0, ''),\n",
              "  Text(424, 0, ''),\n",
              "  Text(425, 0, ''),\n",
              "  Text(426, 0, ''),\n",
              "  Text(427, 0, ''),\n",
              "  Text(428, 0, ''),\n",
              "  Text(429, 0, ''),\n",
              "  Text(430, 0, ''),\n",
              "  Text(431, 0, ''),\n",
              "  Text(432, 0, ''),\n",
              "  Text(433, 0, ''),\n",
              "  Text(434, 0, ''),\n",
              "  Text(435, 0, ''),\n",
              "  Text(436, 0, ''),\n",
              "  Text(437, 0, ''),\n",
              "  Text(438, 0, ''),\n",
              "  Text(439, 0, ''),\n",
              "  Text(440, 0, ''),\n",
              "  Text(441, 0, ''),\n",
              "  Text(442, 0, ''),\n",
              "  Text(443, 0, ''),\n",
              "  Text(444, 0, ''),\n",
              "  Text(445, 0, ''),\n",
              "  Text(446, 0, ''),\n",
              "  Text(447, 0, ''),\n",
              "  Text(448, 0, ''),\n",
              "  Text(449, 0, ''),\n",
              "  Text(450, 0, ''),\n",
              "  Text(451, 0, ''),\n",
              "  Text(452, 0, ''),\n",
              "  Text(453, 0, ''),\n",
              "  Text(454, 0, ''),\n",
              "  Text(455, 0, ''),\n",
              "  Text(456, 0, ''),\n",
              "  Text(457, 0, ''),\n",
              "  Text(458, 0, ''),\n",
              "  Text(459, 0, ''),\n",
              "  Text(460, 0, ''),\n",
              "  Text(461, 0, ''),\n",
              "  Text(462, 0, ''),\n",
              "  Text(463, 0, ''),\n",
              "  Text(464, 0, ''),\n",
              "  Text(465, 0, ''),\n",
              "  Text(466, 0, ''),\n",
              "  Text(467, 0, ''),\n",
              "  Text(468, 0, ''),\n",
              "  Text(469, 0, ''),\n",
              "  Text(470, 0, ''),\n",
              "  Text(471, 0, ''),\n",
              "  Text(472, 0, ''),\n",
              "  Text(473, 0, ''),\n",
              "  Text(474, 0, ''),\n",
              "  Text(475, 0, ''),\n",
              "  Text(476, 0, ''),\n",
              "  Text(477, 0, ''),\n",
              "  Text(478, 0, ''),\n",
              "  Text(479, 0, ''),\n",
              "  Text(480, 0, ''),\n",
              "  Text(481, 0, ''),\n",
              "  Text(482, 0, ''),\n",
              "  Text(483, 0, ''),\n",
              "  Text(484, 0, ''),\n",
              "  Text(485, 0, ''),\n",
              "  Text(486, 0, ''),\n",
              "  Text(487, 0, ''),\n",
              "  Text(488, 0, ''),\n",
              "  Text(489, 0, ''),\n",
              "  Text(490, 0, ''),\n",
              "  Text(491, 0, ''),\n",
              "  Text(492, 0, ''),\n",
              "  Text(493, 0, ''),\n",
              "  Text(494, 0, ''),\n",
              "  Text(495, 0, ''),\n",
              "  Text(496, 0, ''),\n",
              "  Text(497, 0, ''),\n",
              "  Text(498, 0, ''),\n",
              "  Text(499, 0, ''),\n",
              "  Text(500, 0, ''),\n",
              "  Text(501, 0, ''),\n",
              "  Text(502, 0, ''),\n",
              "  Text(503, 0, ''),\n",
              "  Text(504, 0, ''),\n",
              "  Text(505, 0, ''),\n",
              "  Text(506, 0, ''),\n",
              "  Text(507, 0, ''),\n",
              "  Text(508, 0, ''),\n",
              "  Text(509, 0, ''),\n",
              "  Text(510, 0, ''),\n",
              "  Text(511, 0, ''),\n",
              "  Text(512, 0, ''),\n",
              "  Text(513, 0, ''),\n",
              "  Text(514, 0, ''),\n",
              "  Text(515, 0, ''),\n",
              "  Text(516, 0, ''),\n",
              "  Text(517, 0, ''),\n",
              "  Text(518, 0, ''),\n",
              "  Text(519, 0, ''),\n",
              "  Text(520, 0, ''),\n",
              "  Text(521, 0, ''),\n",
              "  Text(522, 0, ''),\n",
              "  Text(523, 0, ''),\n",
              "  Text(524, 0, ''),\n",
              "  Text(525, 0, ''),\n",
              "  Text(526, 0, ''),\n",
              "  Text(527, 0, ''),\n",
              "  Text(528, 0, ''),\n",
              "  Text(529, 0, ''),\n",
              "  Text(530, 0, ''),\n",
              "  Text(531, 0, ''),\n",
              "  Text(532, 0, ''),\n",
              "  Text(533, 0, ''),\n",
              "  Text(534, 0, ''),\n",
              "  Text(535, 0, ''),\n",
              "  Text(536, 0, ''),\n",
              "  Text(537, 0, ''),\n",
              "  Text(538, 0, ''),\n",
              "  Text(539, 0, ''),\n",
              "  Text(540, 0, ''),\n",
              "  Text(541, 0, ''),\n",
              "  Text(542, 0, ''),\n",
              "  Text(543, 0, ''),\n",
              "  Text(544, 0, ''),\n",
              "  Text(545, 0, ''),\n",
              "  Text(546, 0, ''),\n",
              "  Text(547, 0, ''),\n",
              "  Text(548, 0, ''),\n",
              "  Text(549, 0, ''),\n",
              "  Text(550, 0, ''),\n",
              "  Text(551, 0, ''),\n",
              "  Text(552, 0, ''),\n",
              "  Text(553, 0, ''),\n",
              "  Text(554, 0, ''),\n",
              "  Text(555, 0, ''),\n",
              "  Text(556, 0, ''),\n",
              "  Text(557, 0, ''),\n",
              "  Text(558, 0, ''),\n",
              "  Text(559, 0, ''),\n",
              "  Text(560, 0, ''),\n",
              "  Text(561, 0, ''),\n",
              "  Text(562, 0, ''),\n",
              "  Text(563, 0, ''),\n",
              "  Text(564, 0, ''),\n",
              "  Text(565, 0, ''),\n",
              "  Text(566, 0, ''),\n",
              "  Text(567, 0, ''),\n",
              "  Text(568, 0, ''),\n",
              "  Text(569, 0, ''),\n",
              "  Text(570, 0, ''),\n",
              "  Text(571, 0, ''),\n",
              "  Text(572, 0, ''),\n",
              "  Text(573, 0, ''),\n",
              "  Text(574, 0, ''),\n",
              "  Text(575, 0, ''),\n",
              "  Text(576, 0, ''),\n",
              "  Text(577, 0, ''),\n",
              "  Text(578, 0, ''),\n",
              "  Text(579, 0, ''),\n",
              "  Text(580, 0, ''),\n",
              "  Text(581, 0, ''),\n",
              "  Text(582, 0, ''),\n",
              "  Text(583, 0, ''),\n",
              "  Text(584, 0, ''),\n",
              "  Text(585, 0, ''),\n",
              "  Text(586, 0, ''),\n",
              "  Text(587, 0, ''),\n",
              "  Text(588, 0, ''),\n",
              "  Text(589, 0, ''),\n",
              "  Text(590, 0, ''),\n",
              "  Text(591, 0, ''),\n",
              "  Text(592, 0, ''),\n",
              "  Text(593, 0, ''),\n",
              "  Text(594, 0, ''),\n",
              "  Text(595, 0, ''),\n",
              "  Text(596, 0, ''),\n",
              "  Text(597, 0, ''),\n",
              "  Text(598, 0, ''),\n",
              "  Text(599, 0, ''),\n",
              "  Text(600, 0, ''),\n",
              "  Text(601, 0, ''),\n",
              "  Text(602, 0, ''),\n",
              "  Text(603, 0, ''),\n",
              "  Text(604, 0, ''),\n",
              "  Text(605, 0, ''),\n",
              "  Text(606, 0, ''),\n",
              "  Text(607, 0, ''),\n",
              "  Text(608, 0, ''),\n",
              "  Text(609, 0, ''),\n",
              "  Text(610, 0, ''),\n",
              "  Text(611, 0, ''),\n",
              "  Text(612, 0, ''),\n",
              "  Text(613, 0, ''),\n",
              "  Text(614, 0, ''),\n",
              "  Text(615, 0, ''),\n",
              "  Text(616, 0, ''),\n",
              "  Text(617, 0, ''),\n",
              "  Text(618, 0, ''),\n",
              "  Text(619, 0, ''),\n",
              "  Text(620, 0, ''),\n",
              "  Text(621, 0, ''),\n",
              "  Text(622, 0, ''),\n",
              "  Text(623, 0, ''),\n",
              "  Text(624, 0, ''),\n",
              "  Text(625, 0, ''),\n",
              "  Text(626, 0, ''),\n",
              "  Text(627, 0, ''),\n",
              "  Text(628, 0, ''),\n",
              "  Text(629, 0, ''),\n",
              "  Text(630, 0, ''),\n",
              "  Text(631, 0, ''),\n",
              "  Text(632, 0, ''),\n",
              "  Text(633, 0, ''),\n",
              "  Text(634, 0, ''),\n",
              "  Text(635, 0, ''),\n",
              "  Text(636, 0, ''),\n",
              "  Text(637, 0, ''),\n",
              "  Text(638, 0, ''),\n",
              "  Text(639, 0, ''),\n",
              "  Text(640, 0, ''),\n",
              "  Text(641, 0, ''),\n",
              "  Text(642, 0, ''),\n",
              "  Text(643, 0, ''),\n",
              "  Text(644, 0, ''),\n",
              "  Text(645, 0, ''),\n",
              "  Text(646, 0, ''),\n",
              "  Text(647, 0, ''),\n",
              "  Text(648, 0, ''),\n",
              "  Text(649, 0, ''),\n",
              "  Text(650, 0, ''),\n",
              "  Text(651, 0, ''),\n",
              "  Text(652, 0, ''),\n",
              "  Text(653, 0, ''),\n",
              "  Text(654, 0, ''),\n",
              "  Text(655, 0, ''),\n",
              "  Text(656, 0, ''),\n",
              "  Text(657, 0, ''),\n",
              "  Text(658, 0, ''),\n",
              "  Text(659, 0, ''),\n",
              "  Text(660, 0, ''),\n",
              "  Text(661, 0, ''),\n",
              "  Text(662, 0, ''),\n",
              "  Text(663, 0, ''),\n",
              "  Text(664, 0, ''),\n",
              "  Text(665, 0, ''),\n",
              "  Text(666, 0, ''),\n",
              "  Text(667, 0, ''),\n",
              "  Text(668, 0, ''),\n",
              "  Text(669, 0, ''),\n",
              "  Text(670, 0, ''),\n",
              "  Text(671, 0, ''),\n",
              "  Text(672, 0, ''),\n",
              "  Text(673, 0, ''),\n",
              "  Text(674, 0, ''),\n",
              "  Text(675, 0, ''),\n",
              "  Text(676, 0, ''),\n",
              "  Text(677, 0, ''),\n",
              "  Text(678, 0, ''),\n",
              "  Text(679, 0, ''),\n",
              "  Text(680, 0, ''),\n",
              "  Text(681, 0, ''),\n",
              "  Text(682, 0, ''),\n",
              "  Text(683, 0, ''),\n",
              "  Text(684, 0, ''),\n",
              "  Text(685, 0, ''),\n",
              "  Text(686, 0, ''),\n",
              "  Text(687, 0, ''),\n",
              "  Text(688, 0, ''),\n",
              "  Text(689, 0, ''),\n",
              "  Text(690, 0, ''),\n",
              "  Text(691, 0, ''),\n",
              "  Text(692, 0, ''),\n",
              "  Text(693, 0, ''),\n",
              "  Text(694, 0, ''),\n",
              "  Text(695, 0, ''),\n",
              "  Text(696, 0, ''),\n",
              "  Text(697, 0, ''),\n",
              "  Text(698, 0, ''),\n",
              "  Text(699, 0, ''),\n",
              "  Text(700, 0, ''),\n",
              "  Text(701, 0, ''),\n",
              "  Text(702, 0, ''),\n",
              "  Text(703, 0, ''),\n",
              "  Text(704, 0, ''),\n",
              "  Text(705, 0, ''),\n",
              "  Text(706, 0, ''),\n",
              "  Text(707, 0, ''),\n",
              "  Text(708, 0, ''),\n",
              "  Text(709, 0, ''),\n",
              "  Text(710, 0, ''),\n",
              "  Text(711, 0, ''),\n",
              "  Text(712, 0, ''),\n",
              "  Text(713, 0, ''),\n",
              "  Text(714, 0, ''),\n",
              "  Text(715, 0, ''),\n",
              "  Text(716, 0, ''),\n",
              "  Text(717, 0, ''),\n",
              "  Text(718, 0, ''),\n",
              "  Text(719, 0, ''),\n",
              "  Text(720, 0, ''),\n",
              "  Text(721, 0, ''),\n",
              "  Text(722, 0, ''),\n",
              "  Text(723, 0, ''),\n",
              "  Text(724, 0, ''),\n",
              "  Text(725, 0, ''),\n",
              "  Text(726, 0, ''),\n",
              "  Text(727, 0, ''),\n",
              "  Text(728, 0, ''),\n",
              "  Text(729, 0, ''),\n",
              "  Text(730, 0, ''),\n",
              "  Text(731, 0, ''),\n",
              "  Text(732, 0, ''),\n",
              "  Text(733, 0, ''),\n",
              "  Text(734, 0, ''),\n",
              "  Text(735, 0, ''),\n",
              "  Text(736, 0, ''),\n",
              "  Text(737, 0, ''),\n",
              "  Text(738, 0, ''),\n",
              "  Text(739, 0, ''),\n",
              "  Text(740, 0, ''),\n",
              "  Text(741, 0, ''),\n",
              "  Text(742, 0, ''),\n",
              "  Text(743, 0, ''),\n",
              "  Text(744, 0, ''),\n",
              "  Text(745, 0, ''),\n",
              "  Text(746, 0, ''),\n",
              "  Text(747, 0, ''),\n",
              "  Text(748, 0, ''),\n",
              "  Text(749, 0, ''),\n",
              "  Text(750, 0, ''),\n",
              "  Text(751, 0, ''),\n",
              "  Text(752, 0, ''),\n",
              "  Text(753, 0, ''),\n",
              "  Text(754, 0, ''),\n",
              "  Text(755, 0, ''),\n",
              "  Text(756, 0, ''),\n",
              "  Text(757, 0, ''),\n",
              "  Text(758, 0, ''),\n",
              "  Text(759, 0, ''),\n",
              "  Text(760, 0, ''),\n",
              "  Text(761, 0, ''),\n",
              "  Text(762, 0, ''),\n",
              "  Text(763, 0, ''),\n",
              "  Text(764, 0, ''),\n",
              "  Text(765, 0, ''),\n",
              "  Text(766, 0, ''),\n",
              "  Text(767, 0, ''),\n",
              "  Text(768, 0, ''),\n",
              "  Text(769, 0, ''),\n",
              "  Text(770, 0, ''),\n",
              "  Text(771, 0, ''),\n",
              "  Text(772, 0, ''),\n",
              "  Text(773, 0, ''),\n",
              "  Text(774, 0, ''),\n",
              "  Text(775, 0, ''),\n",
              "  Text(776, 0, ''),\n",
              "  Text(777, 0, ''),\n",
              "  Text(778, 0, ''),\n",
              "  Text(779, 0, ''),\n",
              "  Text(780, 0, ''),\n",
              "  Text(781, 0, ''),\n",
              "  Text(782, 0, ''),\n",
              "  Text(783, 0, ''),\n",
              "  Text(784, 0, ''),\n",
              "  Text(785, 0, ''),\n",
              "  Text(786, 0, ''),\n",
              "  Text(787, 0, ''),\n",
              "  Text(788, 0, ''),\n",
              "  Text(789, 0, ''),\n",
              "  Text(790, 0, ''),\n",
              "  Text(791, 0, ''),\n",
              "  Text(792, 0, ''),\n",
              "  Text(793, 0, ''),\n",
              "  Text(794, 0, ''),\n",
              "  Text(795, 0, ''),\n",
              "  Text(796, 0, ''),\n",
              "  Text(797, 0, ''),\n",
              "  Text(798, 0, ''),\n",
              "  Text(799, 0, ''),\n",
              "  Text(800, 0, ''),\n",
              "  Text(801, 0, ''),\n",
              "  Text(802, 0, ''),\n",
              "  Text(803, 0, ''),\n",
              "  Text(804, 0, ''),\n",
              "  Text(805, 0, ''),\n",
              "  Text(806, 0, ''),\n",
              "  Text(807, 0, ''),\n",
              "  Text(808, 0, ''),\n",
              "  Text(809, 0, ''),\n",
              "  Text(810, 0, ''),\n",
              "  Text(811, 0, ''),\n",
              "  Text(812, 0, ''),\n",
              "  Text(813, 0, ''),\n",
              "  Text(814, 0, ''),\n",
              "  Text(815, 0, ''),\n",
              "  Text(816, 0, ''),\n",
              "  Text(817, 0, ''),\n",
              "  Text(818, 0, ''),\n",
              "  Text(819, 0, ''),\n",
              "  Text(820, 0, ''),\n",
              "  Text(821, 0, ''),\n",
              "  Text(822, 0, ''),\n",
              "  Text(823, 0, ''),\n",
              "  Text(824, 0, ''),\n",
              "  Text(825, 0, ''),\n",
              "  Text(826, 0, ''),\n",
              "  Text(827, 0, ''),\n",
              "  Text(828, 0, ''),\n",
              "  Text(829, 0, ''),\n",
              "  Text(830, 0, ''),\n",
              "  Text(831, 0, ''),\n",
              "  Text(832, 0, ''),\n",
              "  Text(833, 0, ''),\n",
              "  Text(834, 0, ''),\n",
              "  Text(835, 0, ''),\n",
              "  Text(836, 0, ''),\n",
              "  Text(837, 0, ''),\n",
              "  Text(838, 0, ''),\n",
              "  Text(839, 0, ''),\n",
              "  Text(840, 0, ''),\n",
              "  Text(841, 0, ''),\n",
              "  Text(842, 0, ''),\n",
              "  Text(843, 0, ''),\n",
              "  Text(844, 0, ''),\n",
              "  Text(845, 0, ''),\n",
              "  Text(846, 0, ''),\n",
              "  Text(847, 0, ''),\n",
              "  Text(848, 0, ''),\n",
              "  Text(849, 0, ''),\n",
              "  Text(850, 0, ''),\n",
              "  Text(851, 0, ''),\n",
              "  Text(852, 0, ''),\n",
              "  Text(853, 0, ''),\n",
              "  Text(854, 0, ''),\n",
              "  Text(855, 0, ''),\n",
              "  Text(856, 0, ''),\n",
              "  Text(857, 0, ''),\n",
              "  Text(858, 0, ''),\n",
              "  Text(859, 0, ''),\n",
              "  Text(860, 0, ''),\n",
              "  Text(861, 0, ''),\n",
              "  Text(862, 0, ''),\n",
              "  Text(863, 0, ''),\n",
              "  Text(864, 0, ''),\n",
              "  Text(865, 0, ''),\n",
              "  Text(866, 0, ''),\n",
              "  Text(867, 0, ''),\n",
              "  Text(868, 0, ''),\n",
              "  Text(869, 0, ''),\n",
              "  Text(870, 0, ''),\n",
              "  Text(871, 0, ''),\n",
              "  Text(872, 0, ''),\n",
              "  Text(873, 0, ''),\n",
              "  Text(874, 0, ''),\n",
              "  Text(875, 0, ''),\n",
              "  Text(876, 0, ''),\n",
              "  Text(877, 0, ''),\n",
              "  Text(878, 0, ''),\n",
              "  Text(879, 0, ''),\n",
              "  Text(880, 0, ''),\n",
              "  Text(881, 0, ''),\n",
              "  Text(882, 0, ''),\n",
              "  Text(883, 0, ''),\n",
              "  Text(884, 0, ''),\n",
              "  Text(885, 0, ''),\n",
              "  Text(886, 0, ''),\n",
              "  Text(887, 0, ''),\n",
              "  Text(888, 0, ''),\n",
              "  Text(889, 0, ''),\n",
              "  Text(890, 0, ''),\n",
              "  Text(891, 0, ''),\n",
              "  Text(892, 0, ''),\n",
              "  Text(893, 0, ''),\n",
              "  Text(894, 0, ''),\n",
              "  Text(895, 0, ''),\n",
              "  Text(896, 0, ''),\n",
              "  Text(897, 0, ''),\n",
              "  Text(898, 0, ''),\n",
              "  Text(899, 0, ''),\n",
              "  Text(900, 0, ''),\n",
              "  Text(901, 0, ''),\n",
              "  Text(902, 0, ''),\n",
              "  Text(903, 0, ''),\n",
              "  Text(904, 0, ''),\n",
              "  Text(905, 0, ''),\n",
              "  Text(906, 0, ''),\n",
              "  Text(907, 0, ''),\n",
              "  Text(908, 0, ''),\n",
              "  Text(909, 0, ''),\n",
              "  Text(910, 0, ''),\n",
              "  Text(911, 0, ''),\n",
              "  Text(912, 0, ''),\n",
              "  Text(913, 0, ''),\n",
              "  Text(914, 0, ''),\n",
              "  Text(915, 0, ''),\n",
              "  Text(916, 0, ''),\n",
              "  Text(917, 0, ''),\n",
              "  Text(918, 0, ''),\n",
              "  Text(919, 0, ''),\n",
              "  Text(920, 0, ''),\n",
              "  Text(921, 0, ''),\n",
              "  Text(922, 0, ''),\n",
              "  Text(923, 0, ''),\n",
              "  Text(924, 0, ''),\n",
              "  Text(925, 0, ''),\n",
              "  Text(926, 0, ''),\n",
              "  Text(927, 0, ''),\n",
              "  Text(928, 0, ''),\n",
              "  Text(929, 0, ''),\n",
              "  Text(930, 0, ''),\n",
              "  Text(931, 0, ''),\n",
              "  Text(932, 0, ''),\n",
              "  Text(933, 0, ''),\n",
              "  Text(934, 0, ''),\n",
              "  Text(935, 0, ''),\n",
              "  Text(936, 0, ''),\n",
              "  Text(937, 0, ''),\n",
              "  Text(938, 0, ''),\n",
              "  Text(939, 0, ''),\n",
              "  Text(940, 0, ''),\n",
              "  Text(941, 0, ''),\n",
              "  Text(942, 0, ''),\n",
              "  Text(943, 0, ''),\n",
              "  Text(944, 0, ''),\n",
              "  Text(945, 0, ''),\n",
              "  Text(946, 0, ''),\n",
              "  Text(947, 0, ''),\n",
              "  Text(948, 0, ''),\n",
              "  Text(949, 0, ''),\n",
              "  Text(950, 0, ''),\n",
              "  Text(951, 0, ''),\n",
              "  Text(952, 0, ''),\n",
              "  Text(953, 0, ''),\n",
              "  Text(954, 0, ''),\n",
              "  Text(955, 0, ''),\n",
              "  Text(956, 0, ''),\n",
              "  Text(957, 0, ''),\n",
              "  Text(958, 0, ''),\n",
              "  Text(959, 0, ''),\n",
              "  Text(960, 0, ''),\n",
              "  Text(961, 0, ''),\n",
              "  Text(962, 0, ''),\n",
              "  Text(963, 0, ''),\n",
              "  Text(964, 0, ''),\n",
              "  Text(965, 0, ''),\n",
              "  Text(966, 0, ''),\n",
              "  Text(967, 0, ''),\n",
              "  Text(968, 0, ''),\n",
              "  Text(969, 0, ''),\n",
              "  Text(970, 0, ''),\n",
              "  Text(971, 0, ''),\n",
              "  Text(972, 0, ''),\n",
              "  Text(973, 0, ''),\n",
              "  Text(974, 0, ''),\n",
              "  Text(975, 0, ''),\n",
              "  Text(976, 0, ''),\n",
              "  Text(977, 0, ''),\n",
              "  Text(978, 0, ''),\n",
              "  Text(979, 0, ''),\n",
              "  Text(980, 0, ''),\n",
              "  Text(981, 0, ''),\n",
              "  Text(982, 0, ''),\n",
              "  Text(983, 0, ''),\n",
              "  Text(984, 0, ''),\n",
              "  Text(985, 0, ''),\n",
              "  Text(986, 0, ''),\n",
              "  Text(987, 0, ''),\n",
              "  Text(988, 0, ''),\n",
              "  Text(989, 0, ''),\n",
              "  Text(990, 0, ''),\n",
              "  Text(991, 0, ''),\n",
              "  Text(992, 0, ''),\n",
              "  Text(993, 0, ''),\n",
              "  Text(994, 0, ''),\n",
              "  Text(995, 0, ''),\n",
              "  Text(996, 0, ''),\n",
              "  Text(997, 0, ''),\n",
              "  Text(998, 0, ''),\n",
              "  Text(999, 0, ''),\n",
              "  ...]]"
            ]
          },
          "metadata": {},
          "execution_count": 5
        },
        {
          "output_type": "display_data",
          "data": {
            "text/plain": [
              "<Figure size 1000x700 with 1 Axes>"
            ],
            "image/png": "[encoded data removed]"
          },
          "metadata": {}
        }
      ]
    },
    {
      "metadata": {
        "id": "Oco3NesskMBL"
      },
      "cell_type": "markdown",
      "source": [
        "## 2.2 Check for NaN Values"
      ]
    },
    {
      "metadata": {
        "id": "VH-4jZaLkUi8",
        "outputId": "48d4d10c-6b40-4030-8b5d-799f8a567011",
        "trusted": true,
        "colab": {
          "base_uri": "https://localhost:8080/"
        }
      },
      "cell_type": "code",
      "source": [
        "np.isnan(x_train).any()"
      ],
      "execution_count": 6,
      "outputs": [
        {
          "output_type": "execute_result",
          "data": {
            "text/plain": [
              "np.False_"
            ]
          },
          "metadata": {},
          "execution_count": 6
        }
      ]
    },
    {
      "metadata": {
        "id": "XyW-9Y95lDOO",
        "outputId": "3e630f3d-2b6e-4a0a-d1a2-08809462c940",
        "trusted": true,
        "colab": {
          "base_uri": "https://localhost:8080/"
        }
      },
      "cell_type": "code",
      "source": [
        "np.isnan(x_test).any()"
      ],
      "execution_count": 7,
      "outputs": [
        {
          "output_type": "execute_result",
          "data": {
            "text/plain": [
              "np.False_"
            ]
          },
          "metadata": {},
          "execution_count": 7
        }
      ]
    },
    {
      "metadata": {
        "id": "k_s4kBdt29S0"
      },
      "cell_type": "markdown",
      "source": [
        "There are no NaN values in our dataset. There is no need to preprocess the data to deal with NaN's."
      ]
    },
    {
      "metadata": {
        "id": "xQShzwu1lVF6"
      },
      "cell_type": "markdown",
      "source": [
        "## 2.3 Normalization and Reshaping\n",
        "\n",
        "Since the values in our ```x_train``` dataset are 32x32 color images, our input shape must be specified so that our model will know what is being inputed.\n",
        "\n",
        "The first convolution layer expects a single 50000x32x32x3 tensor instead of 50000 32x32x3 tensors.\n",
        "\n",
        "Models generally run better on normalized values. The best way to normalize the data depends on each individual dataset. For the CIFAR10 dataset, we want each value to be between 0.0 and 1.0. As all values originally fall under the 0.0-255.0 range, divide by 255.0.\n",
        "\n",
        "Run the following cell to define the ```input_shape``` and to normalize and reshape the data."
      ]
    },
    {
      "metadata": {
        "id": "ku_acgz58zYK",
        "trusted": true
      },
      "cell_type": "code",
      "source": [
        "input_shape = (32, 32, 3)\n",
        "\n",
        "x_train=x_train.reshape(x_train.shape[0], x_train.shape[1], x_train.shape[2], 3)\n",
        "x_train=x_train / 255.0\n",
        "x_test = x_test.reshape(x_test.shape[0], x_test.shape[1], x_test.shape[2], 3)\n",
        "x_test=x_test / 255.0"
      ],
      "execution_count": 8,
      "outputs": []
    },
    {
      "metadata": {
        "id": "to2JD2UdlwlO"
      },
      "cell_type": "markdown",
      "source": [
        "## 2.4 Label Encoding\n",
        "\n",
        "The labels for the training and the testing dataset are currently categorical and is not continuous. To include categorical dataset in our model, our labels should be converted to one-hot encodings.\n",
        "\n",
        "For example, ```2``` (bird) becomes ```[0,0,1,0,0,0,0,0,0,0]``` and ```7``` (horse) becomes ```[0,0,0,0,0,0,0,1,0,0]```.\n",
        "\n",
        "Run the following cell to transform the labels into one-hot encodings"
      ]
    },
    {
      "metadata": {
        "id": "6-QgtiLFlvNq",
        "trusted": true
      },
      "cell_type": "code",
      "source": [
        "y_train = tf.one_hot(y_train.astype(np.int32), depth=10)\n",
        "y_test = tf.one_hot(y_test.astype(np.int32), depth=10)"
      ],
      "execution_count": 9,
      "outputs": []
    },
    {
      "metadata": {
        "id": "GzTNGWbxW_p_",
        "outputId": "f8aab765-8c6a-47b4-a6fc-5990a1775dd0",
        "trusted": true,
        "colab": {
          "base_uri": "https://localhost:8080/"
        }
      },
      "cell_type": "code",
      "source": [
        "y_train[0]"
      ],
      "execution_count": 10,
      "outputs": [
        {
          "output_type": "execute_result",
          "data": {
            "text/plain": [
              "<tf.Tensor: shape=(10,), dtype=float32, numpy=array([0., 0., 0., 0., 0., 0., 1., 0., 0., 0.], dtype=float32)>"
            ]
          },
          "metadata": {},
          "execution_count": 10
        }
      ]
    },
    {
      "metadata": {
        "id": "nTKuoZV_pGkM"
      },
      "cell_type": "markdown",
      "source": [
        "## 2.5 Visualize Data\n",
        "\n",
        "Run the following cell to visualize an image in our dataset."
      ]
    },
    {
      "cell_type": "markdown",
      "source": [],
      "metadata": {
        "id": "T2NLcLGwJLzl"
      }
    },
    {
      "metadata": {
        "id": "q3SNFRohpJvH",
        "outputId": "6af9e281-3e4b-4822-e2d4-70dd30d4bba5",
        "trusted": true,
        "colab": {
          "base_uri": "https://localhost:8080/",
          "height": 447
        }
      },
      "cell_type": "code",
      "source": [
        "plt.imshow(x_train[100])\n",
        "print(y_train[100])"
      ],
      "execution_count": 11,
      "outputs": [
        {
          "output_type": "stream",
          "name": "stdout",
          "text": [
            "tf.Tensor([0. 0. 0. 0. 0. 0. 0. 0. 1. 0.], shape=(10,), dtype=float32)\n"
          ]
        },
        {
          "output_type": "display_data",
          "data": {
            "text/plain": [
              "<Figure size 640x480 with 1 Axes>"
            ],
            "image/png": "[encoded data removed]"
          },
          "metadata": {}
        }
      ]
    },
    {
      "metadata": {
        "id": "ttMHaGwN7TBM"
      },
      "cell_type": "markdown",
      "source": [
        "The image is an image of a ship. The one-hot encoding vector holds the value of the ship class.\n"
      ]
    },
    {
      "metadata": {
        "id": "XeAYl1xBp3a_"
      },
      "cell_type": "markdown",
      "source": [
        "# 3. CNN\n",
        "\n",
        "In this module, we will build our CNN model."
      ]
    },
    {
      "metadata": {
        "id": "9TCx_BCTy2r_"
      },
      "cell_type": "markdown",
      "source": [
        "## 3.1 Define the Model\n",
        "\n",
        "Run the following cell to define ```batch_size```, ```num_classes```, and ```epochs```. Try changing the values and test how different values affect the accuracy of the CNN model."
      ]
    },
    {
      "metadata": {
        "id": "wPr684qj8X60",
        "trusted": true
      },
      "cell_type": "code",
      "source": [
        "batch_size = 32\n",
        "num_classes = 10\n",
        "epochs = 50"
      ],
      "execution_count": 12,
      "outputs": []
    },
    {
      "metadata": {
        "id": "ifh-JaLQ81im"
      },
      "cell_type": "markdown",
      "source": [
        "Run the following cell to build the model. The model contains various layers stacked on top of each other. The output of one layer feeds into the input of the next layer.\n",
        "\n",
        "Conv2D layers are convolutions. Each filter (32 in the first two convolution layers and 64 in the next two convolution layers) transforms a part of the image (5x5 for the first two Conv2D layers and 3x3 for the next two Conv2D layers). The transformation is applied on the whole image.\n",
        "\n",
        "MaxPool2D is a downsampling filter. It reduces a 2x2 matrix of the image to a single pixel with the maximum value of the 2x2 matrix. The filter aims to conserve the main features of the image while reducing the size.\n",
        "\n",
        "Dropout is a regularization layer. In our model, 25% of the nodes in the layer are randomly ignores, allowing the network to learn different features. This prevents overfitting.\n",
        "\n",
        "```relu``` is the rectifier, and it is used to find nonlinearity in the data. It works by returning the input value if the input value >= 0. If the input is negative, it returns 0.\n",
        "\n",
        "Flatten converts the tensors into a 1D vector.\n",
        "\n",
        "The Dense layers are an artificial neural network (ANN). The last layer returns the probability that an image is in each class (one for each digit).\n",
        "\n",
        "As this model aims to categorize the images, we will use a ```categorical_crossentropy``` loss function."
      ]
    },
    {
      "metadata": {
        "id": "RjTEk5TB88ra",
        "trusted": true,
        "colab": {
          "base_uri": "https://localhost:8080/",
          "height": 463
        },
        "outputId": "a8625b9b-38b9-4637-b260-338023daedcd"
      },
      "cell_type": "code",
      "source": [
        "\n",
        "import tensorflow as tf\n",
        "from tensorflow.keras import layers, datasets, models\n",
        "# cnn construction\n",
        "model = models.Sequential()\n",
        "# conv layer 1\n",
        "model.add(layers.Conv2D(32, (5, 5), activation='relu', input_shape=(32, 32, 3)))  # output size: 28*28*32\n",
        "# max pooling 1\n",
        "model.add(layers.MaxPooling2D((2, 2)))  # output size: 14*14*32\n",
        "# conv layer 2\n",
        "model.add(layers.Conv2D(32, (5, 5), activation='relu'))  # output size: 10*10*64\n",
        "# max pooling 2\n",
        "model.add(layers.MaxPooling2D((2, 2)))  # output size: 5*5*32\n",
        "# flat data\n",
        "model.add(layers.Flatten())  # 800 neurons\n",
        "# full connection 1\n",
        "model.add(layers.Dense(64, activation='relu'))  #\n",
        "# full connection 2, output is soft-maxed\n",
        "model.add(layers.Dense(num_classes, activation='softmax'))\n",
        "# print information\n",
        "model.summary()\n",
        "model.compile(optimizer=tf.keras.optimizers.RMSprop(learning_rate=0.0001, decay=1e-06),\n",
        "            loss='categorical_crossentropy', metrics=['acc'])\n"
      ],
      "execution_count": 13,
      "outputs": [
        {
          "output_type": "stream",
          "name": "stderr",
          "text": [
            "/usr/local/lib/python3.12/dist-packages/keras/src/layers/convolutional/base_conv.py:113: UserWarning: Do not pass an `input_shape`/`input_dim` argument to a layer. When using Sequential models, prefer using an `Input(shape)` object as the first layer in the model instead.\n",
            "  super().__init__(activity_regularizer=activity_regularizer, **kwargs)\n"
          ]
        },
        {
          "output_type": "display_data",
          "data": {
            "text/plain": [
              "\u001b[1mModel: \"sequential\"\u001b[0m\n"
            ],
            "text/html": [
              "<pre style=\"white-space:pre;overflow-x:auto;line-height:normal;font-family:Menlo,'DejaVu Sans Mono',consolas,'Courier New',monospace\"><span style=\"font-weight: bold\">Model: \"sequential\"</span>\n",
              "</pre>\n"
            ]
          },
          "metadata": {}
        },
        {
          "output_type": "display_data",
          "data": {
            "text/plain": [
              "┏━━━━━━━━━━━━━━━━━━━━━━━━━━━━━━━━━┳━━━━━━━━━━━━━━━━━━━━━━━━┳━━━━━━━━━━━━━━━┓\n",
              "┃\u001b[1m \u001b[0m\u001b[1mLayer (type)                   \u001b[0m\u001b[1m \u001b[0m┃\u001b[1m \u001b[0m\u001b[1mOutput Shape          \u001b[0m\u001b[1m \u001b[0m┃\u001b[1m \u001b[0m\u001b[1m      Param #\u001b[0m\u001b[1m \u001b[0m┃\n",
              "┡━━━━━━━━━━━━━━━━━━━━━━━━━━━━━━━━━╇━━━━━━━━━━━━━━━━━━━━━━━━╇━━━━━━━━━━━━━━━┩\n",
              "│ conv2d (\u001b[38;5;33mConv2D\u001b[0m)                 │ (\u001b[38;5;45mNone\u001b[0m, \u001b[38;5;34m28\u001b[0m, \u001b[38;5;34m28\u001b[0m, \u001b[38;5;34m32\u001b[0m)     │         \u001b[38;5;34m2,432\u001b[0m │\n",
              "├─────────────────────────────────┼────────────────────────┼───────────────┤\n",
              "│ max_pooling2d (\u001b[38;5;33mMaxPooling2D\u001b[0m)    │ (\u001b[38;5;45mNone\u001b[0m, \u001b[38;5;34m14\u001b[0m, \u001b[38;5;34m14\u001b[0m, \u001b[38;5;34m32\u001b[0m)     │             \u001b[38;5;34m0\u001b[0m │\n",
              "├─────────────────────────────────┼────────────────────────┼───────────────┤\n",
              "│ conv2d_1 (\u001b[38;5;33mConv2D\u001b[0m)               │ (\u001b[38;5;45mNone\u001b[0m, \u001b[38;5;34m10\u001b[0m, \u001b[38;5;34m10\u001b[0m, \u001b[38;5;34m32\u001b[0m)     │        \u001b[38;5;34m25,632\u001b[0m │\n",
              "├─────────────────────────────────┼────────────────────────┼───────────────┤\n",
              "│ max_pooling2d_1 (\u001b[38;5;33mMaxPooling2D\u001b[0m)  │ (\u001b[38;5;45mNone\u001b[0m, \u001b[38;5;34m5\u001b[0m, \u001b[38;5;34m5\u001b[0m, \u001b[38;5;34m32\u001b[0m)       │             \u001b[38;5;34m0\u001b[0m │\n",
              "├─────────────────────────────────┼────────────────────────┼───────────────┤\n",
              "│ flatten (\u001b[38;5;33mFlatten\u001b[0m)               │ (\u001b[38;5;45mNone\u001b[0m, \u001b[38;5;34m800\u001b[0m)            │             \u001b[38;5;34m0\u001b[0m │\n",
              "├─────────────────────────────────┼────────────────────────┼───────────────┤\n",
              "│ dense (\u001b[38;5;33mDense\u001b[0m)                   │ (\u001b[38;5;45mNone\u001b[0m, \u001b[38;5;34m64\u001b[0m)             │        \u001b[38;5;34m51,264\u001b[0m │\n",
              "├─────────────────────────────────┼────────────────────────┼───────────────┤\n",
              "│ dense_1 (\u001b[38;5;33mDense\u001b[0m)                 │ (\u001b[38;5;45mNone\u001b[0m, \u001b[38;5;34m10\u001b[0m)             │           \u001b[38;5;34m650\u001b[0m │\n",
              "└─────────────────────────────────┴────────────────────────┴───────────────┘\n"
            ],
            "text/html": [
              "<pre style=\"white-space:pre;overflow-x:auto;line-height:normal;font-family:Menlo,'DejaVu Sans Mono',consolas,'Courier New',monospace\">┏━━━━━━━━━━━━━━━━━━━━━━━━━━━━━━━━━┳━━━━━━━━━━━━━━━━━━━━━━━━┳━━━━━━━━━━━━━━━┓\n",
              "┃<span style=\"font-weight: bold\"> Layer (type)                    </span>┃<span style=\"font-weight: bold\"> Output Shape           </span>┃<span style=\"font-weight: bold\">       Param # </span>┃\n",
              "┡━━━━━━━━━━━━━━━━━━━━━━━━━━━━━━━━━╇━━━━━━━━━━━━━━━━━━━━━━━━╇━━━━━━━━━━━━━━━┩\n",
              "│ conv2d (<span style=\"color: #0087ff; text-decoration-color: #0087ff\">Conv2D</span>)                 │ (<span style=\"color: #00d7ff; text-decoration-color: #00d7ff\">None</span>, <span style=\"color: #00af00; text-decoration-color: #00af00\">28</span>, <span style=\"color: #00af00; text-decoration-color: #00af00\">28</span>, <span style=\"color: #00af00; text-decoration-color: #00af00\">32</span>)     │         <span style=\"color: #00af00; text-decoration-color: #00af00\">2,432</span> │\n",
              "├─────────────────────────────────┼────────────────────────┼───────────────┤\n",
              "│ max_pooling2d (<span style=\"color: #0087ff; text-decoration-color: #0087ff\">MaxPooling2D</span>)    │ (<span style=\"color: #00d7ff; text-decoration-color: #00d7ff\">None</span>, <span style=\"color: #00af00; text-decoration-color: #00af00\">14</span>, <span style=\"color: #00af00; text-decoration-color: #00af00\">14</span>, <span style=\"color: #00af00; text-decoration-color: #00af00\">32</span>)     │             <span style=\"color: #00af00; text-decoration-color: #00af00\">0</span> │\n",
              "├─────────────────────────────────┼────────────────────────┼───────────────┤\n",
              "│ conv2d_1 (<span style=\"color: #0087ff; text-decoration-color: #0087ff\">Conv2D</span>)               │ (<span style=\"color: #00d7ff; text-decoration-color: #00d7ff\">None</span>, <span style=\"color: #00af00; text-decoration-color: #00af00\">10</span>, <span style=\"color: #00af00; text-decoration-color: #00af00\">10</span>, <span style=\"color: #00af00; text-decoration-color: #00af00\">32</span>)     │        <span style=\"color: #00af00; text-decoration-color: #00af00\">25,632</span> │\n",
              "├─────────────────────────────────┼────────────────────────┼───────────────┤\n",
              "│ max_pooling2d_1 (<span style=\"color: #0087ff; text-decoration-color: #0087ff\">MaxPooling2D</span>)  │ (<span style=\"color: #00d7ff; text-decoration-color: #00d7ff\">None</span>, <span style=\"color: #00af00; text-decoration-color: #00af00\">5</span>, <span style=\"color: #00af00; text-decoration-color: #00af00\">5</span>, <span style=\"color: #00af00; text-decoration-color: #00af00\">32</span>)       │             <span style=\"color: #00af00; text-decoration-color: #00af00\">0</span> │\n",
              "├─────────────────────────────────┼────────────────────────┼───────────────┤\n",
              "│ flatten (<span style=\"color: #0087ff; text-decoration-color: #0087ff\">Flatten</span>)               │ (<span style=\"color: #00d7ff; text-decoration-color: #00d7ff\">None</span>, <span style=\"color: #00af00; text-decoration-color: #00af00\">800</span>)            │             <span style=\"color: #00af00; text-decoration-color: #00af00\">0</span> │\n",
              "├─────────────────────────────────┼────────────────────────┼───────────────┤\n",
              "│ dense (<span style=\"color: #0087ff; text-decoration-color: #0087ff\">Dense</span>)                   │ (<span style=\"color: #00d7ff; text-decoration-color: #00d7ff\">None</span>, <span style=\"color: #00af00; text-decoration-color: #00af00\">64</span>)             │        <span style=\"color: #00af00; text-decoration-color: #00af00\">51,264</span> │\n",
              "├─────────────────────────────────┼────────────────────────┼───────────────┤\n",
              "│ dense_1 (<span style=\"color: #0087ff; text-decoration-color: #0087ff\">Dense</span>)                 │ (<span style=\"color: #00d7ff; text-decoration-color: #00d7ff\">None</span>, <span style=\"color: #00af00; text-decoration-color: #00af00\">10</span>)             │           <span style=\"color: #00af00; text-decoration-color: #00af00\">650</span> │\n",
              "└─────────────────────────────────┴────────────────────────┴───────────────┘\n",
              "</pre>\n"
            ]
          },
          "metadata": {}
        },
        {
          "output_type": "display_data",
          "data": {
            "text/plain": [
              "\u001b[1m Total params: \u001b[0m\u001b[38;5;34m79,978\u001b[0m (312.41 KB)\n"
            ],
            "text/html": [
              "<pre style=\"white-space:pre;overflow-x:auto;line-height:normal;font-family:Menlo,'DejaVu Sans Mono',consolas,'Courier New',monospace\"><span style=\"font-weight: bold\"> Total params: </span><span style=\"color: #00af00; text-decoration-color: #00af00\">79,978</span> (312.41 KB)\n",
              "</pre>\n"
            ]
          },
          "metadata": {}
        },
        {
          "output_type": "display_data",
          "data": {
            "text/plain": [
              "\u001b[1m Trainable params: \u001b[0m\u001b[38;5;34m79,978\u001b[0m (312.41 KB)\n"
            ],
            "text/html": [
              "<pre style=\"white-space:pre;overflow-x:auto;line-height:normal;font-family:Menlo,'DejaVu Sans Mono',consolas,'Courier New',monospace\"><span style=\"font-weight: bold\"> Trainable params: </span><span style=\"color: #00af00; text-decoration-color: #00af00\">79,978</span> (312.41 KB)\n",
              "</pre>\n"
            ]
          },
          "metadata": {}
        },
        {
          "output_type": "display_data",
          "data": {
            "text/plain": [
              "\u001b[1m Non-trainable params: \u001b[0m\u001b[38;5;34m0\u001b[0m (0.00 B)\n"
            ],
            "text/html": [
              "<pre style=\"white-space:pre;overflow-x:auto;line-height:normal;font-family:Menlo,'DejaVu Sans Mono',consolas,'Courier New',monospace\"><span style=\"font-weight: bold\"> Non-trainable params: </span><span style=\"color: #00af00; text-decoration-color: #00af00\">0</span> (0.00 B)\n",
              "</pre>\n"
            ]
          },
          "metadata": {}
        },
        {
          "output_type": "stream",
          "name": "stderr",
          "text": [
            "/usr/local/lib/python3.12/dist-packages/keras/src/optimizers/base_optimizer.py:86: UserWarning: Argument `decay` is no longer supported and will be ignored.\n",
            "  warnings.warn(\n"
          ]
        }
      ]
    },
    {
      "metadata": {
        "id": "AT0NrsRh0lgw"
      },
      "cell_type": "markdown",
      "source": [
        "## 3.2 Fit the Training Data\n",
        "\n",
        "Testing the model on a validation dataset prevents overfitting of the data. We specified a 10% validation and 90% training split."
      ]
    },
    {
      "metadata": {
        "id": "V-GXoRkD-U8W",
        "outputId": "9a0a0fb4-23b3-46da-afe1-479c83a42e75",
        "trusted": true,
        "colab": {
          "base_uri": "https://localhost:8080/"
        }
      },
      "cell_type": "code",
      "source": [
        "history = model.fit(x_train, y_train, batch_size=batch_size,\n",
        "                    epochs=epochs)"
      ],
      "execution_count": 14,
      "outputs": [
        {
          "output_type": "stream",
          "name": "stdout",
          "text": [
            "Epoch 1/50\n",
            "\u001b[1m1563/1563\u001b[0m \u001b[32m━━━━━━━━━━━━━━━━━━━━\u001b[0m\u001b[37m\u001b[0m \u001b[1m9s\u001b[0m 3ms/step - acc: 0.2390 - loss: 2.0821\n",
            "Epoch 2/50\n",
            "\u001b[1m1563/1563\u001b[0m \u001b[32m━━━━━━━━━━━━━━━━━━━━\u001b[0m\u001b[37m\u001b[0m \u001b[1m4s\u001b[0m 3ms/step - acc: 0.4161 - loss: 1.6301\n",
            "Epoch 3/50\n",
            "\u001b[1m1563/1563\u001b[0m \u001b[32m━━━━━━━━━━━━━━━━━━━━\u001b[0m\u001b[37m\u001b[0m \u001b[1m5s\u001b[0m 3ms/step - acc: 0.4575 - loss: 1.4968\n",
            "Epoch 4/50\n",
            "\u001b[1m1563/1563\u001b[0m \u001b[32m━━━━━━━━━━━━━━━━━━━━\u001b[0m\u001b[37m\u001b[0m \u001b[1m5s\u001b[0m 3ms/step - acc: 0.4870 - loss: 1.4279\n",
            "Epoch 5/50\n",
            "\u001b[1m1563/1563\u001b[0m \u001b[32m━━━━━━━━━━━━━━━━━━━━\u001b[0m\u001b[37m\u001b[0m \u001b[1m5s\u001b[0m 3ms/step - acc: 0.5088 - loss: 1.3730\n",
            "Epoch 6/50\n",
            "\u001b[1m1563/1563\u001b[0m \u001b[32m━━━━━━━━━━━━━━━━━━━━\u001b[0m\u001b[37m\u001b[0m \u001b[1m5s\u001b[0m 3ms/step - acc: 0.5310 - loss: 1.3274\n",
            "Epoch 7/50\n",
            "\u001b[1m1563/1563\u001b[0m \u001b[32m━━━━━━━━━━━━━━━━━━━━\u001b[0m\u001b[37m\u001b[0m \u001b[1m5s\u001b[0m 3ms/step - acc: 0.5455 - loss: 1.2782\n",
            "Epoch 8/50\n",
            "\u001b[1m1563/1563\u001b[0m \u001b[32m━━━━━━━━━━━━━━━━━━━━\u001b[0m\u001b[37m\u001b[0m \u001b[1m5s\u001b[0m 3ms/step - acc: 0.5626 - loss: 1.2398\n",
            "Epoch 9/50\n",
            "\u001b[1m1563/1563\u001b[0m \u001b[32m━━━━━━━━━━━━━━━━━━━━\u001b[0m\u001b[37m\u001b[0m \u001b[1m5s\u001b[0m 3ms/step - acc: 0.5696 - loss: 1.2148\n",
            "Epoch 10/50\n",
            "\u001b[1m1563/1563\u001b[0m \u001b[32m━━━━━━━━━━━━━━━━━━━━\u001b[0m\u001b[37m\u001b[0m \u001b[1m5s\u001b[0m 3ms/step - acc: 0.5859 - loss: 1.1848\n",
            "Epoch 11/50\n",
            "\u001b[1m1563/1563\u001b[0m \u001b[32m━━━━━━━━━━━━━━━━━━━━\u001b[0m\u001b[37m\u001b[0m \u001b[1m5s\u001b[0m 3ms/step - acc: 0.5938 - loss: 1.1572\n",
            "Epoch 12/50\n",
            "\u001b[1m1563/1563\u001b[0m \u001b[32m━━━━━━━━━━━━━━━━━━━━\u001b[0m\u001b[37m\u001b[0m \u001b[1m5s\u001b[0m 3ms/step - acc: 0.6057 - loss: 1.1270\n",
            "Epoch 13/50\n",
            "\u001b[1m1563/1563\u001b[0m \u001b[32m━━━━━━━━━━━━━━━━━━━━\u001b[0m\u001b[37m\u001b[0m \u001b[1m5s\u001b[0m 3ms/step - acc: 0.6132 - loss: 1.1050\n",
            "Epoch 14/50\n",
            "\u001b[1m1563/1563\u001b[0m \u001b[32m━━━━━━━━━━━━━━━━━━━━\u001b[0m\u001b[37m\u001b[0m \u001b[1m5s\u001b[0m 3ms/step - acc: 0.6231 - loss: 1.0821\n",
            "Epoch 15/50\n",
            "\u001b[1m1563/1563\u001b[0m \u001b[32m━━━━━━━━━━━━━━━━━━━━\u001b[0m\u001b[37m\u001b[0m \u001b[1m5s\u001b[0m 3ms/step - acc: 0.6280 - loss: 1.0608\n",
            "Epoch 16/50\n",
            "\u001b[1m1563/1563\u001b[0m \u001b[32m━━━━━━━━━━━━━━━━━━━━\u001b[0m\u001b[37m\u001b[0m \u001b[1m5s\u001b[0m 3ms/step - acc: 0.6376 - loss: 1.0467\n",
            "Epoch 17/50\n",
            "\u001b[1m1563/1563\u001b[0m \u001b[32m━━━━━━━━━━━━━━━━━━━━\u001b[0m\u001b[37m\u001b[0m \u001b[1m5s\u001b[0m 3ms/step - acc: 0.6441 - loss: 1.0299\n",
            "Epoch 18/50\n",
            "\u001b[1m1563/1563\u001b[0m \u001b[32m━━━━━━━━━━━━━━━━━━━━\u001b[0m\u001b[37m\u001b[0m \u001b[1m5s\u001b[0m 3ms/step - acc: 0.6437 - loss: 1.0186\n",
            "Epoch 19/50\n",
            "\u001b[1m1563/1563\u001b[0m \u001b[32m━━━━━━━━━━━━━━━━━━━━\u001b[0m\u001b[37m\u001b[0m \u001b[1m5s\u001b[0m 3ms/step - acc: 0.6551 - loss: 0.9896\n",
            "Epoch 20/50\n",
            "\u001b[1m1563/1563\u001b[0m \u001b[32m━━━━━━━━━━━━━━━━━━━━\u001b[0m\u001b[37m\u001b[0m \u001b[1m5s\u001b[0m 3ms/step - acc: 0.6561 - loss: 0.9832\n",
            "Epoch 21/50\n",
            "\u001b[1m1563/1563\u001b[0m \u001b[32m━━━━━━━━━━━━━━━━━━━━\u001b[0m\u001b[37m\u001b[0m \u001b[1m5s\u001b[0m 3ms/step - acc: 0.6688 - loss: 0.9627\n",
            "Epoch 22/50\n",
            "\u001b[1m1563/1563\u001b[0m \u001b[32m━━━━━━━━━━━━━━━━━━━━\u001b[0m\u001b[37m\u001b[0m \u001b[1m5s\u001b[0m 3ms/step - acc: 0.6673 - loss: 0.9550\n",
            "Epoch 23/50\n",
            "\u001b[1m1563/1563\u001b[0m \u001b[32m━━━━━━━━━━━━━━━━━━━━\u001b[0m\u001b[37m\u001b[0m \u001b[1m5s\u001b[0m 3ms/step - acc: 0.6712 - loss: 0.9503\n",
            "Epoch 24/50\n",
            "\u001b[1m1563/1563\u001b[0m \u001b[32m━━━━━━━━━━━━━━━━━━━━\u001b[0m\u001b[37m\u001b[0m \u001b[1m5s\u001b[0m 3ms/step - acc: 0.6825 - loss: 0.9192\n",
            "Epoch 25/50\n",
            "\u001b[1m1563/1563\u001b[0m \u001b[32m━━━━━━━━━━━━━━━━━━━━\u001b[0m\u001b[37m\u001b[0m \u001b[1m5s\u001b[0m 3ms/step - acc: 0.6828 - loss: 0.9192\n",
            "Epoch 26/50\n",
            "\u001b[1m1563/1563\u001b[0m \u001b[32m━━━━━━━━━━━━━━━━━━━━\u001b[0m\u001b[37m\u001b[0m \u001b[1m5s\u001b[0m 3ms/step - acc: 0.6805 - loss: 0.9115\n",
            "Epoch 27/50\n",
            "\u001b[1m1563/1563\u001b[0m \u001b[32m━━━━━━━━━━━━━━━━━━━━\u001b[0m\u001b[37m\u001b[0m \u001b[1m5s\u001b[0m 3ms/step - acc: 0.6882 - loss: 0.8999\n",
            "Epoch 28/50\n",
            "\u001b[1m1563/1563\u001b[0m \u001b[32m━━━━━━━━━━━━━━━━━━━━\u001b[0m\u001b[37m\u001b[0m \u001b[1m5s\u001b[0m 3ms/step - acc: 0.6945 - loss: 0.8820\n",
            "Epoch 29/50\n",
            "\u001b[1m1563/1563\u001b[0m \u001b[32m━━━━━━━━━━━━━━━━━━━━\u001b[0m\u001b[37m\u001b[0m \u001b[1m5s\u001b[0m 3ms/step - acc: 0.6966 - loss: 0.8738\n",
            "Epoch 30/50\n",
            "\u001b[1m1563/1563\u001b[0m \u001b[32m━━━━━━━━━━━━━━━━━━━━\u001b[0m\u001b[37m\u001b[0m \u001b[1m10s\u001b[0m 3ms/step - acc: 0.7046 - loss: 0.8616\n",
            "Epoch 31/50\n",
            "\u001b[1m1563/1563\u001b[0m \u001b[32m━━━━━━━━━━━━━━━━━━━━\u001b[0m\u001b[37m\u001b[0m \u001b[1m6s\u001b[0m 3ms/step - acc: 0.7048 - loss: 0.8512\n",
            "Epoch 32/50\n",
            "\u001b[1m1563/1563\u001b[0m \u001b[32m━━━━━━━━━━━━━━━━━━━━\u001b[0m\u001b[37m\u001b[0m \u001b[1m5s\u001b[0m 3ms/step - acc: 0.7082 - loss: 0.8413\n",
            "Epoch 33/50\n",
            "\u001b[1m1563/1563\u001b[0m \u001b[32m━━━━━━━━━━━━━━━━━━━━\u001b[0m\u001b[37m\u001b[0m \u001b[1m5s\u001b[0m 3ms/step - acc: 0.7114 - loss: 0.8343\n",
            "Epoch 34/50\n",
            "\u001b[1m1563/1563\u001b[0m \u001b[32m━━━━━━━━━━━━━━━━━━━━\u001b[0m\u001b[37m\u001b[0m \u001b[1m5s\u001b[0m 3ms/step - acc: 0.7145 - loss: 0.8252\n",
            "Epoch 35/50\n",
            "\u001b[1m1563/1563\u001b[0m \u001b[32m━━━━━━━━━━━━━━━━━━━━\u001b[0m\u001b[37m\u001b[0m \u001b[1m5s\u001b[0m 3ms/step - acc: 0.7185 - loss: 0.8131\n",
            "Epoch 36/50\n",
            "\u001b[1m1563/1563\u001b[0m \u001b[32m━━━━━━━━━━━━━━━━━━━━\u001b[0m\u001b[37m\u001b[0m \u001b[1m5s\u001b[0m 3ms/step - acc: 0.7230 - loss: 0.8006\n",
            "Epoch 37/50\n",
            "\u001b[1m1563/1563\u001b[0m \u001b[32m━━━━━━━━━━━━━━━━━━━━\u001b[0m\u001b[37m\u001b[0m \u001b[1m5s\u001b[0m 3ms/step - acc: 0.7232 - loss: 0.7948\n",
            "Epoch 38/50\n",
            "\u001b[1m1563/1563\u001b[0m \u001b[32m━━━━━━━━━━━━━━━━━━━━\u001b[0m\u001b[37m\u001b[0m \u001b[1m5s\u001b[0m 3ms/step - acc: 0.7259 - loss: 0.7886\n",
            "Epoch 39/50\n",
            "\u001b[1m1563/1563\u001b[0m \u001b[32m━━━━━━━━━━━━━━━━━━━━\u001b[0m\u001b[37m\u001b[0m \u001b[1m6s\u001b[0m 3ms/step - acc: 0.7278 - loss: 0.7848\n",
            "Epoch 40/50\n",
            "\u001b[1m1563/1563\u001b[0m \u001b[32m━━━━━━━━━━━━━━━━━━━━\u001b[0m\u001b[37m\u001b[0m \u001b[1m5s\u001b[0m 3ms/step - acc: 0.7332 - loss: 0.7787\n",
            "Epoch 41/50\n",
            "\u001b[1m1563/1563\u001b[0m \u001b[32m━━━━━━━━━━━━━━━━━━━━\u001b[0m\u001b[37m\u001b[0m \u001b[1m5s\u001b[0m 3ms/step - acc: 0.7339 - loss: 0.7678\n",
            "Epoch 42/50\n",
            "\u001b[1m1563/1563\u001b[0m \u001b[32m━━━━━━━━━━━━━━━━━━━━\u001b[0m\u001b[37m\u001b[0m \u001b[1m5s\u001b[0m 3ms/step - acc: 0.7352 - loss: 0.7617\n",
            "Epoch 43/50\n",
            "\u001b[1m1563/1563\u001b[0m \u001b[32m━━━━━━━━━━━━━━━━━━━━\u001b[0m\u001b[37m\u001b[0m \u001b[1m5s\u001b[0m 3ms/step - acc: 0.7383 - loss: 0.7531\n",
            "Epoch 44/50\n",
            "\u001b[1m1563/1563\u001b[0m \u001b[32m━━━━━━━━━━━━━━━━━━━━\u001b[0m\u001b[37m\u001b[0m \u001b[1m5s\u001b[0m 3ms/step - acc: 0.7449 - loss: 0.7394\n",
            "Epoch 45/50\n",
            "\u001b[1m1563/1563\u001b[0m \u001b[32m━━━━━━━━━━━━━━━━━━━━\u001b[0m\u001b[37m\u001b[0m \u001b[1m10s\u001b[0m 3ms/step - acc: 0.7453 - loss: 0.7399\n",
            "Epoch 46/50\n",
            "\u001b[1m1563/1563\u001b[0m \u001b[32m━━━━━━━━━━━━━━━━━━━━\u001b[0m\u001b[37m\u001b[0m \u001b[1m5s\u001b[0m 3ms/step - acc: 0.7490 - loss: 0.7331\n",
            "Epoch 47/50\n",
            "\u001b[1m1563/1563\u001b[0m \u001b[32m━━━━━━━━━━━━━━━━━━━━\u001b[0m\u001b[37m\u001b[0m \u001b[1m5s\u001b[0m 3ms/step - acc: 0.7523 - loss: 0.7182\n",
            "Epoch 48/50\n",
            "\u001b[1m1563/1563\u001b[0m \u001b[32m━━━━━━━━━━━━━━━━━━━━\u001b[0m\u001b[37m\u001b[0m \u001b[1m5s\u001b[0m 3ms/step - acc: 0.7530 - loss: 0.7179\n",
            "Epoch 49/50\n",
            "\u001b[1m1563/1563\u001b[0m \u001b[32m━━━━━━━━━━━━━━━━━━━━\u001b[0m\u001b[37m\u001b[0m \u001b[1m5s\u001b[0m 3ms/step - acc: 0.7556 - loss: 0.7011\n",
            "Epoch 50/50\n",
            "\u001b[1m1563/1563\u001b[0m \u001b[32m━━━━━━━━━━━━━━━━━━━━\u001b[0m\u001b[37m\u001b[0m \u001b[1m5s\u001b[0m 3ms/step - acc: 0.7546 - loss: 0.7101\n"
          ]
        }
      ]
    },
    {
      "cell_type": "code",
      "source": [],
      "metadata": {
        "id": "AGTqUbWyp3SO"
      },
      "execution_count": 14,
      "outputs": []
    },
    {
      "cell_type": "code",
      "source": [],
      "metadata": {
        "id": "IEV1earUJRz5"
      },
      "execution_count": 14,
      "outputs": []
    },
    {
      "cell_type": "code",
      "source": [
        "model.save(\"/content/drive/MyDrive/Untitled folder/cnn_model2_tf.h5\")"
      ],
      "metadata": {
        "colab": {
          "base_uri": "https://localhost:8080/"
        },
        "id": "6P8OeYG4p3iJ",
        "outputId": "29bae31c-9bcd-498f-bb76-61117e548d7f"
      },
      "execution_count": 15,
      "outputs": [
        {
          "output_type": "stream",
          "name": "stderr",
          "text": [
            "WARNING:absl:You are saving your model as an HDF5 file via `model.save()` or `keras.saving.save_model(model)`. This file format is considered legacy. We recommend using instead the native Keras format, e.g. `model.save('my_model.keras')` or `keras.saving.save_model(model, 'my_model.keras')`. \n"
          ]
        }
      ]
    },
    {
      "metadata": {
        "id": "TGzrFXC69vr5"
      },
      "cell_type": "markdown",
      "source": [
        "# 4. Evaluate the Model"
      ]
    },
    {
      "metadata": {
        "id": "3wL6JNg7-5u-"
      },
      "cell_type": "markdown",
      "source": [
        "## 4.1 Loss and Accuracy Curves\n",
        "\n",
        "Run the following cell to evaluate the loss and accuracy of our model"
      ]
    },
    {
      "metadata": {
        "id": "tkhKzBcg9ymI",
        "trusted": true,
        "colab": {
          "base_uri": "https://localhost:8080/",
          "height": 430
        },
        "outputId": "d1ff733e-e131-4bd8-d27a-02c86747b5cd"
      },
      "cell_type": "code",
      "source": [
        "fig, ax = plt.subplots(2,1)\n",
        "ax[0].plot(history.history['loss'], color='b', label=\"Training Loss\")\n",
        "legend = ax[0].legend(loc='best', shadow=True)\n",
        "\n",
        "ax[1].plot(history.history['acc'], color='b', label=\"Training Accuracy\")\n",
        "legend = ax[1].legend(loc='best', shadow=True)"
      ],
      "execution_count": 16,
      "outputs": [
        {
          "output_type": "display_data",
          "data": {
            "text/plain": [
              "<Figure size 640x480 with 2 Axes>"
            ],
            "image/png": "[encoded data removed]"
          },
          "metadata": {}
        }
      ]
    },
    {
      "metadata": {
        "id": "bRZd0Jj-EklQ"
      },
      "cell_type": "markdown",
      "source": [
        "The accuracy increases over time and the loss decreases over time. However, the accuracy of our validation set seems to slightly decrease towards the end even thought our training accuracy increased. Running the model for more epochs might cause our model to be susceptible to overfitting."
      ]
    },
    {
      "metadata": {
        "id": "hkNF8izQKjMa"
      },
      "cell_type": "markdown",
      "source": [
        "## 4.2 Predict Results\n"
      ]
    },
    {
      "metadata": {
        "id": "TUed3bpT_VzA",
        "trusted": true,
        "colab": {
          "base_uri": "https://localhost:8080/"
        },
        "outputId": "c139b4da-03ee-42b8-c432-8de749fa1fc0"
      },
      "cell_type": "code",
      "source": [
        "test_loss, test_acc = model.evaluate(x_test, y_test)"
      ],
      "execution_count": 17,
      "outputs": [
        {
          "output_type": "stream",
          "name": "stdout",
          "text": [
            "\u001b[1m313/313\u001b[0m \u001b[32m━━━━━━━━━━━━━━━━━━━━\u001b[0m\u001b[37m\u001b[0m \u001b[1m3s\u001b[0m 5ms/step - acc: 0.6869 - loss: 0.9312\n"
          ]
        }
      ]
    },
    {
      "metadata": {
        "id": "gStuiR3pE63h"
      },
      "cell_type": "markdown",
      "source": [
        "Our model runs pretty well, with an accuracy of ~80% on our testing data."
      ]
    },
    {
      "metadata": {
        "id": "Y8awQU80KuiF"
      },
      "cell_type": "markdown",
      "source": [
        "## 4.3 Confusion Matrix\n",
        "\n",
        "Run the following cell to compute our confusion matrix using TensorFlow."
      ]
    },
    {
      "metadata": {
        "id": "nB4WQloAK0W0",
        "trusted": true,
        "colab": {
          "base_uri": "https://localhost:8080/"
        },
        "outputId": "f008fe6c-2cad-4f93-d17f-597787508694"
      },
      "cell_type": "code",
      "source": [
        "# Predict the values from the validation dataset\n",
        "y_pred = model.predict(x_test)\n",
        "# Convert predictions classes to one hot vectors\n",
        "y_pred_classes = np.argmax(y_pred,axis = 1)\n",
        "# Convert validation observations to one hot vectors\n",
        "y_true = np.argmax(y_test,axis = 1)\n",
        "# compute the confusion matrix\n",
        "confusion_mtx = tf.math.confusion_matrix(y_true, y_pred_classes)"
      ],
      "execution_count": 18,
      "outputs": [
        {
          "output_type": "stream",
          "name": "stdout",
          "text": [
            "\u001b[1m313/313\u001b[0m \u001b[32m━━━━━━━━━━━━━━━━━━━━\u001b[0m\u001b[37m\u001b[0m \u001b[1m1s\u001b[0m 2ms/step\n"
          ]
        }
      ]
    },
    {
      "metadata": {
        "id": "KNJAUsqgFOem"
      },
      "cell_type": "markdown",
      "source": [
        "Run the following cell to plot the confusion matrix. We see that our model classifies frogs pretty well, with 900 out of the 1000 frog images heving been classified correctly. We can also see that there is relatively high confusion between cats and dogs."
      ]
    },
    {
      "metadata": {
        "id": "twgFyvRpN2eu",
        "trusted": true,
        "colab": {
          "base_uri": "https://localhost:8080/",
          "height": 1000
        },
        "outputId": "bbf73df3-6d29-4325-d3ff-3bdcce12b9e2"
      },
      "cell_type": "code",
      "source": [
        "plt.figure(figsize=(12, 9))\n",
        "c = sns.heatmap(confusion_mtx, annot=True, fmt='g')\n",
        "c.set(xticklabels=classes, yticklabels=classes)"
      ],
      "execution_count": 19,
      "outputs": [
        {
          "output_type": "execute_result",
          "data": {
            "text/plain": [
              "[[Text(0.5, 0, 'airplane'),\n",
              "  Text(1.5, 0, 'automobile'),\n",
              "  Text(2.5, 0, 'bird'),\n",
              "  Text(3.5, 0, 'cat'),\n",
              "  Text(4.5, 0, 'deer'),\n",
              "  Text(5.5, 0, 'dog'),\n",
              "  Text(6.5, 0, 'frog'),\n",
              "  Text(7.5, 0, 'horse'),\n",
              "  Text(8.5, 0, 'ship'),\n",
              "  Text(9.5, 0, 'truck')],\n",
              " [Text(0, 0.5, 'airplane'),\n",
              "  Text(0, 1.5, 'automobile'),\n",
              "  Text(0, 2.5, 'bird'),\n",
              "  Text(0, 3.5, 'cat'),\n",
              "  Text(0, 4.5, 'deer'),\n",
              "  Text(0, 5.5, 'dog'),\n",
              "  Text(0, 6.5, 'frog'),\n",
              "  Text(0, 7.5, 'horse'),\n",
              "  Text(0, 8.5, 'ship'),\n",
              "  Text(0, 9.5, 'truck')]]"
            ]
          },
          "metadata": {},
          "execution_count": 19
        },
        {
          "output_type": "display_data",
          "data": {
            "text/plain": [
              "<Figure size 1200x900 with 2 Axes>"
            ],
            "image/png": "[encoded data removed]"
          },
          "metadata": {}
        }
      ]
    }
  ],
  "metadata": {
    "kernelspec": {
      "display_name": "Python 3",
      "name": "python3"
    },
    "language_info": {
      "pygments_lexer": "ipython3",
      "nbconvert_exporter": "python",
      "version": "3.6.4",
      "file_extension": ".py",
      "codemirror_mode": {
        "name": "ipython",
        "version": 3
      },
      "name": "python",
      "mimetype": "text/x-python"
    },
    "colab": {
      "name": "TensorFlow: CIFAR10 CNN Tutorial",
      "provenance": [],
      "include_colab_link": true
    }
  },
  "nbformat": 4,
  "nbformat_minor": 0
}